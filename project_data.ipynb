{
 "cells": [
  {
   "cell_type": "code",
   "execution_count": 16,
   "metadata": {},
   "outputs": [],
   "source": [
    "import pandas as pd\n",
    "import numpy as np"
   ]
  },
  {
   "cell_type": "markdown",
   "metadata": {},
   "source": [
    "## Data Combining"
   ]
  },
  {
   "cell_type": "code",
   "execution_count": 50,
   "metadata": {},
   "outputs": [],
   "source": [
    "#reading all the transfer data csv's from https://github.com/ewenme/transfers/tree/master/data\n",
    "epl_2021 = pd.read_csv(\"english_premier_league_2021.csv\")\n",
    "epl_2020 = pd.read_csv(\"english_premier_league_2020.csv\")\n",
    "epl_2019 = pd.read_csv(\"english_premier_league_2019.csv\")\n",
    "epl_2018 = pd.read_csv(\"english_premier_league_2018.csv\")\n",
    "epl_2017 = pd.read_csv(\"english_premier_league_2017.csv\")\n",
    "epl_2016 = pd.read_csv(\"english_premier_league_2016.csv\")\n",
    "epl_2015 = pd.read_csv(\"english_premier_league_2015.csv\")\n",
    "epl_2014 = pd.read_csv(\"english_premier_league_2014.csv\")\n",
    "epl_2013 = pd.read_csv(\"english_premier_league_2013.csv\")\n",
    "epl_2012 = pd.read_csv(\"english_premier_league_2012.csv\")\n",
    "epl_2011 = pd.read_csv(\"english_premier_league_2011.csv\")\n",
    "ligue1_2021 = pd.read_csv(\"french_ligue_1_2021.csv\")\n",
    "ligue1_2020 = pd.read_csv(\"french_ligue_1_2020.csv\")\n",
    "ligue1_2019 = pd.read_csv(\"french_ligue_1_2019.csv\")\n",
    "ligue1_2018 = pd.read_csv(\"french_ligue_1_2018.csv\")\n",
    "ligue1_2017 = pd.read_csv(\"french_ligue_1_2017.csv\")\n",
    "ligue1_2016 = pd.read_csv(\"french_ligue_1_2016.csv\")\n",
    "ligue1_2015 = pd.read_csv(\"french_ligue_1_2015.csv\")\n",
    "ligue1_2014 = pd.read_csv(\"french_ligue_1_2014.csv\")\n",
    "ligue1_2013 = pd.read_csv(\"french_ligue_1_2013.csv\")\n",
    "ligue1_2012 = pd.read_csv(\"french_ligue_1_2012.csv\")\n",
    "ligue1_2011 = pd.read_csv(\"french_ligue_1_2011.csv\")\n",
    "bundesliga_2021 = pd.read_csv(\"german_bundesliga_1_2021.csv\")\n",
    "bundesliga_2020 = pd.read_csv(\"german_bundesliga_1_2020.csv\")\n",
    "bundesliga_2019 = pd.read_csv(\"german_bundesliga_1_2019.csv\")\n",
    "bundesliga_2018 = pd.read_csv(\"german_bundesliga_1_2018.csv\")\n",
    "bundesliga_2017 = pd.read_csv(\"german_bundesliga_1_2017.csv\")\n",
    "bundesliga_2016 = pd.read_csv(\"german_bundesliga_1_2016.csv\")\n",
    "bundesliga_2015 = pd.read_csv(\"german_bundesliga_1_2015.csv\")\n",
    "bundesliga_2014 = pd.read_csv(\"german_bundesliga_1_2014.csv\")\n",
    "bundesliga_2013 = pd.read_csv(\"german_bundesliga_1_2013.csv\")\n",
    "bundesliga_2012 = pd.read_csv(\"german_bundesliga_1_2012.csv\")\n",
    "bundesliga_2011 = pd.read_csv(\"german_bundesliga_1_2011.csv\")\n",
    "laliga_2021 = pd.read_csv(\"spanish_primera_division_2021.csv\")\n",
    "laliga_2020 = pd.read_csv(\"spanish_primera_division_2020.csv\")\n",
    "laliga_2019 = pd.read_csv(\"spanish_primera_division_2019.csv\")\n",
    "laliga_2018 = pd.read_csv(\"spanish_primera_division_2018.csv\")\n",
    "laliga_2017 = pd.read_csv(\"spanish_primera_division_2017.csv\")\n",
    "laliga_2016 = pd.read_csv(\"spanish_primera_division_2016.csv\")\n",
    "laliga_2015 = pd.read_csv(\"spanish_primera_division_2015.csv\")\n",
    "laliga_2014 = pd.read_csv(\"spanish_primera_division_2014.csv\")\n",
    "laliga_2013 = pd.read_csv(\"spanish_primera_division_2013.csv\")\n",
    "laliga_2012 = pd.read_csv(\"spanish_primera_division_2012.csv\")\n",
    "laliga_2011 = pd.read_csv(\"spanish_primera_division_2011.csv\")\n",
    "serie_a_2021 = pd.read_csv(\"italian_serie_a_2021.csv\")\n",
    "serie_a_2020 = pd.read_csv(\"italian_serie_a_2020.csv\")\n",
    "serie_a_2019 = pd.read_csv(\"italian_serie_a_2019.csv\")\n",
    "serie_a_2018 = pd.read_csv(\"italian_serie_a_2018.csv\")\n",
    "serie_a_2017 = pd.read_csv(\"italian_serie_a_2017.csv\")\n",
    "serie_a_2016 = pd.read_csv(\"italian_serie_a_2016.csv\")\n",
    "serie_a_2015 = pd.read_csv(\"italian_serie_a_2015.csv\")\n",
    "serie_a_2014 = pd.read_csv(\"italian_serie_a_2014.csv\")\n",
    "serie_a_2013 = pd.read_csv(\"italian_serie_a_2013.csv\")\n",
    "serie_a_2012 = pd.read_csv(\"italian_serie_a_2012.csv\")\n",
    "serie_a_2011 = pd.read_csv(\"italian_serie_a_2011.csv\")\n",
    "eredivisie_2021 = pd.read_csv(\"dutch_eredivisie_2021.csv\")\n",
    "eredivisie_2020 = pd.read_csv(\"dutch_eredivisie_2020.csv\")\n",
    "eredivisie_2019 = pd.read_csv(\"dutch_eredivisie_2019.csv\")\n",
    "eredivisie_2018 = pd.read_csv(\"dutch_eredivisie_2018.csv\")\n",
    "eredivisie_2017 = pd.read_csv(\"dutch_eredivisie_2017.csv\")\n",
    "eredivisie_2016 = pd.read_csv(\"dutch_eredivisie_2016.csv\")\n",
    "eredivisie_2015 = pd.read_csv(\"dutch_eredivisie_2015.csv\")\n",
    "eredivisie_2014 = pd.read_csv(\"dutch_eredivisie_2014.csv\")\n",
    "eredivisie_2013 = pd.read_csv(\"dutch_eredivisie_2013.csv\")\n",
    "eredivisie_2012 = pd.read_csv(\"dutch_eredivisie_2012.csv\")\n",
    "eredivisie_2011 = pd.read_csv(\"dutch_eredivisie_2011.csv\")\n",
    "liga_nos_2021 = pd.read_csv(\"portugese_liga_nos_2021.csv\")\n",
    "liga_nos_2020 = pd.read_csv(\"portugese_liga_nos_2020.csv\")\n",
    "liga_nos_2019 = pd.read_csv(\"portugese_liga_nos_2019.csv\")\n",
    "liga_nos_2018 = pd.read_csv(\"portugese_liga_nos_2018.csv\")\n",
    "liga_nos_2017 = pd.read_csv(\"portugese_liga_nos_2017.csv\")\n",
    "liga_nos_2016 = pd.read_csv(\"portugese_liga_nos_2016.csv\")\n",
    "liga_nos_2015 = pd.read_csv(\"portugese_liga_nos_2015.csv\")\n",
    "liga_nos_2014 = pd.read_csv(\"portugese_liga_nos_2014.csv\")\n",
    "liga_nos_2013 = pd.read_csv(\"portugese_liga_nos_2013.csv\")\n",
    "liga_nos_2012 = pd.read_csv(\"portugese_liga_nos_2012.csv\")\n",
    "liga_nos_2011 = pd.read_csv(\"portugese_liga_nos_2011.csv\")\n",
    "russian_premier_liga_2021 = pd.read_csv(\"russian_premier_liga_2021.csv\")\n",
    "russian_premier_liga_2020 = pd.read_csv(\"russian_premier_liga_2020.csv\")\n",
    "russian_premier_liga_2019 = pd.read_csv(\"russian_premier_liga_2019.csv\")\n",
    "russian_premier_liga_2018 = pd.read_csv(\"russian_premier_liga_2018.csv\")\n",
    "russian_premier_liga_2017 = pd.read_csv(\"russian_premier_liga_2017.csv\")\n",
    "russian_premier_liga_2016 = pd.read_csv(\"russian_premier_liga_2016.csv\")\n",
    "russian_premier_liga_2015 = pd.read_csv(\"russian_premier_liga_2015.csv\")\n",
    "russian_premier_liga_2014 = pd.read_csv(\"russian_premier_liga_2014.csv\")\n",
    "russian_premier_liga_2013 = pd.read_csv(\"russian_premier_liga_2013.csv\")\n",
    "russian_premier_liga_2012 = pd.read_csv(\"russian_premier_liga_2012.csv\")\n",
    "russian_premier_liga_2011 = pd.read_csv(\"russian_premier_liga_2011.csv\")\n",
    "                                        \n",
    "\n",
    "fifa_2021 = pd.read_csv(\"players_21.csv\")\n",
    "fifa_2021[\"year\"] = 2021\n",
    "fifa_2020 = pd.read_csv(\"players_20.csv\")\n",
    "fifa_2020[\"year\"] = 2020\n",
    "fifa_2019 = pd.read_csv(\"players_19.csv\")\n",
    "fifa_2019[\"year\"] = 2019\n",
    "fifa_2018 = pd.read_csv(\"players_18.csv\")\n",
    "fifa_2018[\"year\"] = 2018\n",
    "fifa_2017 = pd.read_csv(\"players_17.csv\")\n",
    "fifa_2017[\"year\"] = 2017\n",
    "fifa_2016 = pd.read_csv(\"players_16.csv\")\n",
    "fifa_2016[\"year\"] = 2016"
   ]
  },
  {
   "cell_type": "code",
   "execution_count": 18,
   "metadata": {},
   "outputs": [],
   "source": [
    "#reading all the performance data csv's from FootyStats and FIFA\n",
    "fs_epl_2021 = pd.read_csv(\"england-premier-league-players-2020-to-2021-stats.csv\")\n",
    "fs_epl_2021[\"year\"] = 2021\n",
    "fs_epl_2020 = pd.read_csv(\"england-premier-league-players-2019-to-2020-stats.csv\")\n",
    "fs_epl_2020[\"year\"] = 2020\n",
    "fs_epl_2019 = pd.read_csv(\"england-premier-league-players-2018-to-2019-stats.csv\")\n",
    "fs_epl_2019[\"year\"] = 2019\n",
    "fs_epl_2018 = pd.read_csv(\"england-premier-league-players-2017-to-2018-stats.csv\")\n",
    "fs_epl_2018[\"year\"] = 2018\n",
    "fs_epl_2017 = pd.read_csv(\"england-premier-league-players-2016-to-2017-stats.csv\")\n",
    "fs_epl_2017[\"year\"] = 2017\n",
    "fs_epl_2016 = pd.read_csv(\"england-premier-league-players-2015-to-2016-stats.csv\")\n",
    "fs_epl_2016[\"year\"] = 2016\n",
    "fs_epl_2015 = pd.read_csv(\"england-premier-league-players-2014-to-2015-stats.csv\")\n",
    "fs_epl_2015[\"year\"] = 2015\n",
    "fs_epl_2014 = pd.read_csv(\"england-premier-league-players-2013-to-2014-stats.csv\")\n",
    "fs_epl_2014[\"year\"] = 2014\n",
    "fs_epl_2013 = pd.read_csv(\"england-premier-league-players-2012-to-2013-stats.csv\")\n",
    "fs_epl_2013[\"year\"] = 2013\n",
    "fs_epl_2012 = pd.read_csv(\"england-premier-league-players-2011-to-2012-stats.csv\")\n",
    "fs_epl_2012[\"year\"] = 2012\n",
    "fs_epl_2011 = pd.read_csv(\"england-premier-league-players-2010-to-2011-stats.csv\")\n",
    "fs_epl_2011[\"year\"] = 2011\n",
    "\n",
    "fs_ligue1_2021 = pd.read_csv(\"france-ligue-1-players-2020-to-2021-stats.csv\")\n",
    "fs_ligue1_2021[\"year\"] = 2021\n",
    "fs_ligue1_2020 = pd.read_csv(\"france-ligue-1-players-2019-to-2020-stats.csv\")\n",
    "fs_ligue1_2020[\"year\"] = 2020\n",
    "fs_ligue1_2019 = pd.read_csv(\"france-ligue-1-players-2018-to-2019-stats.csv\")\n",
    "fs_ligue1_2019[\"year\"] = 2019\n",
    "fs_ligue1_2018 = pd.read_csv(\"france-ligue-1-players-2017-to-2018-stats.csv\")\n",
    "fs_ligue1_2018[\"year\"] = 2018\n",
    "fs_ligue1_2017 = pd.read_csv(\"france-ligue-1-players-2016-to-2017-stats.csv\")\n",
    "fs_ligue1_2017[\"year\"] = 2017\n",
    "fs_ligue1_2016 = pd.read_csv(\"france-ligue-1-players-2015-to-2016-stats.csv\")\n",
    "fs_ligue1_2016[\"year\"] = 2016\n",
    "fs_ligue1_2015 = pd.read_csv(\"france-ligue-1-players-2014-to-2015-stats.csv\")\n",
    "fs_ligue1_2015[\"year\"] = 2015\n",
    "fs_ligue1_2014 = pd.read_csv(\"france-ligue-1-players-2013-to-2014-stats.csv\")\n",
    "fs_ligue1_2014[\"year\"] = 2014\n",
    "fs_ligue1_2013 = pd.read_csv(\"france-ligue-1-players-2012-to-2013-stats.csv\")\n",
    "fs_ligue1_2013[\"year\"] = 2013\n",
    "fs_ligue1_2012 = pd.read_csv(\"france-ligue-1-players-2011-to-2012-stats.csv\")\n",
    "fs_ligue1_2012[\"year\"] = 2012\n",
    "fs_ligue1_2011 = pd.read_csv(\"france-ligue-1-players-2010-to-2011-stats.csv\")\n",
    "fs_ligue1_2011[\"year\"] = 2011\n",
    "\n",
    "fs_bundesliga_2021 = pd.read_csv(\"germany-bundesliga-players-2020-to-2021-stats.csv\")\n",
    "fs_bundesliga_2021[\"year\"] = 2021\n",
    "fs_bundesliga_2020 = pd.read_csv(\"germany-bundesliga-players-2019-to-2020-stats.csv\")\n",
    "fs_bundesliga_2020[\"year\"] = 2020\n",
    "fs_bundesliga_2019 = pd.read_csv(\"germany-bundesliga-players-2018-to-2019-stats.csv\")\n",
    "fs_bundesliga_2019[\"year\"] = 2019\n",
    "fs_bundesliga_2018 = pd.read_csv(\"germany-bundesliga-players-2017-to-2018-stats.csv\")\n",
    "fs_bundesliga_2018[\"year\"] = 2018\n",
    "fs_bundesliga_2017 = pd.read_csv(\"germany-bundesliga-players-2016-to-2017-stats.csv\")\n",
    "fs_bundesliga_2017[\"year\"] = 2017\n",
    "fs_bundesliga_2016 = pd.read_csv(\"germany-bundesliga-players-2015-to-2016-stats.csv\")\n",
    "fs_bundesliga_2016[\"year\"] = 2016\n",
    "fs_bundesliga_2015 = pd.read_csv(\"germany-bundesliga-players-2014-to-2015-stats.csv\")\n",
    "fs_bundesliga_2015[\"year\"] = 2015\n",
    "fs_bundesliga_2014 = pd.read_csv(\"germany-bundesliga-players-2013-to-2014-stats.csv\")\n",
    "fs_bundesliga_2014[\"year\"] = 2014\n",
    "fs_bundesliga_2013 = pd.read_csv(\"germany-bundesliga-players-2012-to-2013-stats.csv\")\n",
    "fs_bundesliga_2013[\"year\"] = 2013\n",
    "fs_bundesliga_2012 = pd.read_csv(\"germany-bundesliga-players-2011-to-2012-stats.csv\")\n",
    "fs_bundesliga_2012[\"year\"] = 2012\n",
    "fs_bundesliga_2011 = pd.read_csv(\"germany-bundesliga-players-2010-to-2011-stats.csv\")\n",
    "fs_bundesliga_2011[\"year\"] = 2011\n",
    "\n",
    "fs_serie_a_2021 = pd.read_csv(\"italy-serie-a-players-2020-to-2021-stats.csv\")\n",
    "fs_serie_a_2021[\"year\"] = 2021\n",
    "fs_serie_a_2020 = pd.read_csv(\"italy-serie-a-players-2019-to-2020-stats.csv\")\n",
    "fs_serie_a_2020[\"year\"] = 2020\n",
    "fs_serie_a_2019 = pd.read_csv(\"italy-serie-a-players-2018-to-2019-stats.csv\")\n",
    "fs_serie_a_2019[\"year\"] = 2019\n",
    "fs_serie_a_2018 = pd.read_csv(\"italy-serie-a-players-2017-to-2018-stats.csv\")\n",
    "fs_serie_a_2018[\"year\"] = 2018\n",
    "fs_serie_a_2017 = pd.read_csv(\"italy-serie-a-players-2016-to-2017-stats.csv\")\n",
    "fs_serie_a_2017[\"year\"] = 2017\n",
    "fs_serie_a_2016 = pd.read_csv(\"italy-serie-a-players-2015-to-2016-stats.csv\")\n",
    "fs_serie_a_2016[\"year\"] = 2016\n",
    "fs_serie_a_2015 = pd.read_csv(\"italy-serie-a-players-2014-to-2015-stats.csv\")\n",
    "fs_serie_a_2015[\"year\"] = 2015\n",
    "fs_serie_a_2014 = pd.read_csv(\"italy-serie-a-players-2013-to-2014-stats.csv\")\n",
    "fs_serie_a_2014[\"year\"] = 2014\n",
    "fs_serie_a_2013 = pd.read_csv(\"italy-serie-a-players-2012-to-2013-stats.csv\")\n",
    "fs_serie_a_2013[\"year\"] = 2013\n",
    "fs_serie_a_2012 = pd.read_csv(\"italy-serie-a-players-2011-to-2012-stats.csv\")\n",
    "fs_serie_a_2012[\"year\"] = 2012\n",
    "\n",
    "\n",
    "fs_la_liga_2021 = pd.read_csv(\"spain-la-liga-players-2020-to-2021-stats.csv\")\n",
    "fs_la_liga_2021[\"year\"] = 2021\n",
    "fs_la_liga_2020 = pd.read_csv(\"spain-la-liga-players-2019-to-2020-stats.csv\")\n",
    "fs_la_liga_2020[\"year\"] = 2020\n",
    "fs_la_liga_2019 = pd.read_csv(\"spain-la-liga-players-2018-to-2019-stats.csv\")\n",
    "fs_la_liga_2019[\"year\"] = 2019\n",
    "fs_la_liga_2018 = pd.read_csv(\"spain-la-liga-players-2017-to-2018-stats.csv\")\n",
    "fs_la_liga_2018[\"year\"] = 2018\n",
    "fs_la_liga_2017 = pd.read_csv(\"spain-la-liga-players-2016-to-2017-stats.csv\")\n",
    "fs_la_liga_2017[\"year\"] = 2017\n",
    "fs_la_liga_2016 = pd.read_csv(\"spain-la-liga-players-2015-to-2016-stats.csv\")\n",
    "fs_la_liga_2016[\"year\"] = 2016\n",
    "fs_la_liga_2015 = pd.read_csv(\"spain-la-liga-players-2014-to-2015-stats.csv\")\n",
    "fs_la_liga_2015[\"year\"] = 2015\n",
    "fs_la_liga_2014 = pd.read_csv(\"spain-la-liga-players-2013-to-2014-stats.csv\")\n",
    "fs_la_liga_2014[\"year\"] = 2014\n",
    "fs_la_liga_2013 = pd.read_csv(\"spain-la-liga-players-2012-to-2013-stats.csv\")\n",
    "fs_la_liga_2013[\"year\"] = 2013\n",
    "fs_la_liga_2012 = pd.read_csv(\"spain-la-liga-players-2011-to-2012-stats.csv\")\n",
    "fs_la_liga_2012[\"year\"] = 2012\n",
    "fs_la_liga_2011 = pd.read_csv(\"spain-la-liga-players-2010-to-2011-stats.csv\")\n",
    "fs_la_liga_2011[\"year\"] = 2011\n",
    "\n",
    "fs_eredivisie_2021 = pd.read_csv(\"netherlands-eredivisie-players-2020-to-2021-stats.csv\")\n",
    "fs_eredivisie_2021[\"year\"] = 2021\n",
    "fs_eredivisie_2020 = pd.read_csv(\"netherlands-eredivisie-players-2019-to-2020-stats.csv\")\n",
    "fs_eredivisie_2020[\"year\"] = 2020\n",
    "fs_eredivisie_2019 = pd.read_csv(\"netherlands-eredivisie-players-2018-to-2019-stats.csv\")\n",
    "fs_eredivisie_2019[\"year\"] = 2019\n",
    "fs_eredivisie_2018 = pd.read_csv(\"netherlands-eredivisie-players-2017-to-2018-stats.csv\")\n",
    "fs_eredivisie_2018[\"year\"] = 2018\n",
    "fs_eredivisie_2017 = pd.read_csv(\"netherlands-eredivisie-players-2016-to-2017-stats.csv\")\n",
    "fs_eredivisie_2017[\"year\"] = 2017\n",
    "fs_eredivisie_2016 = pd.read_csv(\"netherlands-eredivisie-players-2015-to-2016-stats.csv\")\n",
    "fs_eredivisie_2016[\"year\"] = 2016\n",
    "fs_eredivisie_2015 = pd.read_csv(\"netherlands-eredivisie-players-2014-to-2015-stats.csv\")\n",
    "fs_eredivisie_2015[\"year\"] = 2015\n",
    "fs_eredivisie_2014 = pd.read_csv(\"netherlands-eredivisie-players-2013-to-2014-stats.csv\")\n",
    "fs_eredivisie_2014[\"year\"] = 2014\n",
    "fs_eredivisie_2013 = pd.read_csv(\"netherlands-eredivisie-players-2012-to-2013-stats.csv\")\n",
    "fs_eredivisie_2013[\"year\"] = 2013\n",
    "fs_eredivisie_2012 = pd.read_csv(\"netherlands-eredivisie-players-2011-to-2012-stats.csv\")\n",
    "fs_eredivisie_2012[\"year\"] = 2012\n",
    "\n",
    "fs_liga_nos_2021 = pd.read_csv(\"portugal-liga-nos-players-2020-to-2021-stats.csv\")\n",
    "fs_liga_nos_2021[\"year\"] = 2021\n",
    "fs_liga_nos_2020 = pd.read_csv(\"portugal-liga-nos-players-2019-to-2020-stats.csv\")\n",
    "fs_liga_nos_2020[\"year\"] = 2020\n",
    "fs_liga_nos_2019 = pd.read_csv(\"portugal-liga-nos-players-2018-to-2019-stats.csv\")\n",
    "fs_liga_nos_2019[\"year\"] = 2019\n",
    "fs_liga_nos_2018 = pd.read_csv(\"portugal-liga-nos-players-2017-to-2018-stats.csv\")\n",
    "fs_liga_nos_2018[\"year\"] = 2018\n",
    "fs_liga_nos_2017 = pd.read_csv(\"portugal-liga-nos-players-2016-to-2017-stats.csv\")\n",
    "fs_liga_nos_2017[\"year\"] = 2017\n",
    "fs_liga_nos_2016 = pd.read_csv(\"portugal-liga-nos-players-2015-to-2016-stats.csv\")\n",
    "fs_liga_nos_2016[\"year\"] = 2016\n",
    "fs_liga_nos_2015 = pd.read_csv(\"portugal-liga-nos-players-2014-to-2015-stats.csv\")\n",
    "fs_liga_nos_2015[\"year\"] = 2015\n",
    "fs_liga_nos_2014 = pd.read_csv(\"portugal-liga-nos-players-2013-to-2014-stats.csv\")\n",
    "fs_liga_nos_2014[\"year\"] = 2014\n",
    "fs_liga_nos_2013 = pd.read_csv(\"portugal-liga-nos-players-2012-to-2013-stats.csv\")\n",
    "fs_liga_nos_2013[\"year\"] = 2013\n",
    "fs_liga_nos_2012 = pd.read_csv(\"portugal-liga-nos-players-2011-to-2012-stats.csv\")\n",
    "fs_liga_nos_2012[\"year\"] = 2012\n",
    "fs_liga_nos_2011 = pd.read_csv(\"portugal-liga-nos-players-2011-to-2012-stats.csv\")\n",
    "fs_liga_nos_2011[\"year\"] = 2011\n",
    "\n",
    "fs_russian_premier_liga_2021 = pd.read_csv(\"russia-russian-premier-league-players-2020-to-2021-stats.csv\")\n",
    "fs_russian_premier_liga_2021[\"year\"] = 2021\n",
    "fs_russian_premier_liga_2020 = pd.read_csv(\"russia-russian-premier-league-players-2019-to-2020-stats.csv\")\n",
    "fs_russian_premier_liga_2020[\"year\"] = 2020\n",
    "fs_russian_premier_liga_2019 = pd.read_csv(\"russia-russian-premier-league-players-2018-to-2019-stats.csv\")\n",
    "fs_russian_premier_liga_2019[\"year\"] = 2019\n",
    "fs_russian_premier_liga_2018 = pd.read_csv(\"russia-russian-premier-league-players-2017-to-2018-stats.csv\")\n",
    "fs_russian_premier_liga_2018[\"year\"] = 2018\n",
    "fs_russian_premier_liga_2017 = pd.read_csv(\"russia-russian-premier-league-players-2016-to-2017-stats.csv\")\n",
    "fs_russian_premier_liga_2017[\"year\"] = 2017\n",
    "fs_russian_premier_liga_2016 = pd.read_csv(\"russia-russian-premier-league-players-2015-to-2016-stats.csv\")\n",
    "fs_russian_premier_liga_2016[\"year\"] = 2016\n",
    "fs_russian_premier_liga_2015 = pd.read_csv(\"russia-russian-premier-league-players-2014-to-2015-stats.csv\")\n",
    "fs_russian_premier_liga_2015[\"year\"] = 2015\n",
    "fs_russian_premier_liga_2014 = pd.read_csv(\"russia-russian-premier-league-players-2013-to-2014-stats.csv\")\n",
    "fs_russian_premier_liga_2014[\"year\"] = 2014\n"
   ]
  },
  {
   "cell_type": "code",
   "execution_count": 19,
   "metadata": {},
   "outputs": [],
   "source": [
    "#reading google volume data csv\n",
    "df_sv = pd.read_csv(\"soccer_data_search_volume.csv\",encoding = \"ISO-8859-1\")\n",
    "df_sv = df_sv[['year', 'short_name', 'search_volume']]  \n",
    "df_sv = df_sv.rename(columns={\"year\": \"year_sv\", \"short_name\":\"short_name_sv\", \"search_volume\":\"search_volume_sv\"})"
   ]
  },
  {
   "cell_type": "code",
   "execution_count": 20,
   "metadata": {},
   "outputs": [],
   "source": [
    "#combining transfer data csv's\n",
    "df_transfer = pd.concat([epl_2021 , epl_2020 , epl_2019 , epl_2018 , epl_2017 , epl_2016 , epl_2015 , epl_2014 , epl_2013 , epl_2012 , epl_2011 , ligue1_2021 , ligue1_2020 , ligue1_2019 , ligue1_2018 , ligue1_2017 , ligue1_2016 , ligue1_2015 , ligue1_2014 , ligue1_2013 , ligue1_2012 , ligue1_2011 , bundesliga_2021 , bundesliga_2020 , bundesliga_2019 , bundesliga_2018 , bundesliga_2017 , bundesliga_2016 , bundesliga_2015 , bundesliga_2014 , bundesliga_2013 , bundesliga_2012 , bundesliga_2011 , laliga_2021 , laliga_2020 , laliga_2019 , laliga_2018 , laliga_2017 , laliga_2016 , laliga_2015 , laliga_2014 , laliga_2013 , laliga_2012 , laliga_2011 , serie_a_2021, serie_a_2020, serie_a_2019, serie_a_2018, serie_a_2017, serie_a_2016, serie_a_2015, serie_a_2014, serie_a_2013, serie_a_2012, serie_a_2011, eredivisie_2021 , eredivisie_2020 , eredivisie_2019 , eredivisie_2018 , eredivisie_2017 , eredivisie_2016 , eredivisie_2015 , eredivisie_2014 , eredivisie_2013 , eredivisie_2012 , eredivisie_2011 , eredivisie_2011 , liga_nos_2021 , liga_nos_2020 , liga_nos_2019 , liga_nos_2018 , liga_nos_2017 , liga_nos_2016 , liga_nos_2015 , liga_nos_2014 , liga_nos_2013 , liga_nos_2012 , liga_nos_2011 , russian_premier_liga_2021 , russian_premier_liga_2020 , russian_premier_liga_2019 , russian_premier_liga_2018 , russian_premier_liga_2017 , russian_premier_liga_2016 , russian_premier_liga_2015 , russian_premier_liga_2014 , russian_premier_liga_2013 , russian_premier_liga_2012 , russian_premier_liga_2011])\n",
    "df_transfer_clean = df_transfer[df_transfer['transfer_movement'] == \"out\"]\n",
    "df_transfer_clean = df_transfer_clean[df_transfer_clean['fee_cleaned']>0]"
   ]
  },
  {
   "cell_type": "code",
   "execution_count": 21,
   "metadata": {
    "scrolled": true
   },
   "outputs": [],
   "source": [
    "#filtering for relevant columns and simplifying name for merge purposes\n",
    "df_transfer_clean = df_transfer_clean[[\"club_name\",\"player_name\",\"club_involved_name\",\"fee_cleaned\",\"league_name\",\"year\"]]\n",
    "df_transfer_clean['name_len'] = df_transfer_clean['player_name'].str.split().apply(len)\n",
    "\n",
    "splitted = df_transfer_clean['player_name'].str.split()\n",
    "df_transfer_clean['first_name'] = splitted.str[0]\n",
    "df_transfer_clean['last_name'] = splitted.str[-1]\n",
    "df_transfer_clean['first_name'] = df_transfer_clean['first_name'].str[:1] +'.'\n",
    "df_transfer_clean['short_name'] = np.where(df_transfer_clean['name_len'] == 1, df_transfer_clean['last_name'] , df_transfer_clean['first_name'] + ' ' + df_transfer_clean['last_name'])\n",
    "df_transfer_clean_final = df_transfer_clean.drop(['first_name','last_name','name_len'], axis=1)"
   ]
  },
  {
   "cell_type": "code",
   "execution_count": 22,
   "metadata": {
    "scrolled": true
   },
   "outputs": [],
   "source": [
    "#combining FIFA data csv's and cleaning\n",
    "df_fifa = pd.concat([fifa_2021, fifa_2020, fifa_2019, fifa_2018, fifa_2017, fifa_2016])\n",
    "df_fifa_clean = df_fifa[[\"short_name\",\"long_name\",\"club_name\",'height_cm', 'weight_kg', \"league_name\",'league_rank', 'overall', 'potential', 'value_eur', 'wage_eur', 'player_positions', 'preferred_foot', 'international_reputation', 'weak_foot', 'skill_moves', 'work_rate', 'body_type', 'real_face', 'release_clause_eur', 'player_tags', 'team_position', 'team_jersey_number', 'loaned_from', 'joined', 'contract_valid_until', 'nation_position', 'nation_jersey_number', 'pace', 'shooting', 'passing', 'dribbling', 'defending', 'physic', 'gk_diving', 'gk_handling', 'gk_kicking', 'gk_reflexes', 'gk_speed', 'gk_positioning', 'player_traits', 'attacking_crossing', 'attacking_finishing', 'attacking_heading_accuracy', 'attacking_short_passing', 'attacking_volleys', 'skill_dribbling', 'skill_curve', 'skill_fk_accuracy', 'skill_long_passing', 'skill_ball_control', 'movement_acceleration', 'movement_sprint_speed', 'movement_agility', 'movement_reactions', 'movement_balance', 'power_shot_power', 'power_jumping', 'power_stamina', 'power_strength', 'power_long_shots', 'mentality_aggression', 'mentality_interceptions', 'mentality_positioning', 'mentality_vision', 'mentality_penalties', 'mentality_composure', 'defending_marking', 'defending_standing_tackle', 'defending_sliding_tackle', 'goalkeeping_diving', 'goalkeeping_handling', 'goalkeeping_kicking', 'goalkeeping_positioning', 'goalkeeping_reflexes', 'ls', 'st', 'rs', 'lw', 'lf', 'cf', 'rf', 'rw', 'lam', 'cam', 'ram', 'lm', 'lcm', 'cm', 'rcm', 'rm', 'lwb', 'ldm', 'cdm', 'rdm', 'rwb', 'lb', 'lcb', 'cb', 'rcb', 'rb', 'year']]\n",
    "df_fifa_clean = df_fifa_clean[df_fifa_clean.league_name.isin(['Holland Eredivisie','Portuguese Liga ZON SAGRES','Russian Premier League','Spain Primera Division','Italian Serie A','German 1. Bundesliga','French Ligue 1','English Premier League'])]\n",
    "df_fifa_clean['league_name'] = df_fifa_clean['league_name'].str.replace('Spain Primera Division', 'Primera Division')\n",
    "df_fifa_clean['league_name'] = df_fifa_clean['league_name'].str.replace('Italian Serie A', 'Serie A')\n",
    "df_fifa_clean['league_name'] = df_fifa_clean['league_name'].str.replace('German 1. Bundesliga', '1 Bundesliga')\n",
    "df_fifa_clean['league_name'] = df_fifa_clean['league_name'].str.replace('French Ligue 1', 'Ligue 1')\n",
    "df_fifa_clean['league_name'] = df_fifa_clean['league_name'].str.replace('English Premier League', 'Premier League')\n",
    "df_fifa_clean['league_name'] = df_fifa_clean['league_name'].str.replace('Holland Eredivisie', 'Eredivisie')\n",
    "df_fifa_clean['league_name'] = df_fifa_clean['league_name'].str.replace('Portuguese Liga ZON SAGRES', 'Liga Nos')\n",
    "df_fifa_clean['league_name'] = df_fifa_clean['league_name'].str.replace('Russian Premier League', 'Premier Liga')"
   ]
  },
  {
   "cell_type": "code",
   "execution_count": 23,
   "metadata": {},
   "outputs": [],
   "source": [
    "df_fifa_clean['name_len'] = df_fifa_clean['short_name'].str.split().apply(len)\n",
    "\n",
    "splitted2 = df_fifa_clean['short_name'].str.split()\n",
    "df_fifa_clean['first_name'] = splitted2.str[0]\n",
    "df_fifa_clean['last_name'] = splitted2.str[-1]\n",
    "df_fifa_clean['first_name'] = df_fifa_clean['first_name'].str[:1] +'.'\n",
    "df_fifa_clean['short_name2'] = np.where(df_fifa_clean['name_len'] == 1, df_fifa_clean['last_name'] , df_fifa_clean['first_name'] + ' ' + df_fifa_clean['last_name'])\n",
    "df_fifa_clean_final = df_fifa_clean.drop(['first_name','last_name','name_len'], axis=1)\n",
    "\n",
    "df_fifa_clean_final['transfer_year'] = df_fifa_clean_final['year'] + 1"
   ]
  },
  {
   "cell_type": "code",
   "execution_count": 24,
   "metadata": {},
   "outputs": [],
   "source": [
    "# df_combi1 = pd.merge(df_transfer_clean_final, df_fifa_clean_final,  how='left', left_on=['short_name','year','league_name'], right_on = ['short_name2','year','league_name'])\n",
    "# df_combi1 = df_combi1[df_combi1['long_name'].notnull()]\n",
    "# df_combi1 = df_combi1[['club_name_x','short_name_x','player_name','club_involved_name','fee_cleaned','league_name','year','overall', 'pace', 'shooting', 'passing', 'dribbling','defending', 'physic', 'gk_diving', 'gk_handling', 'gk_kicking','gk_reflexes', 'gk_speed', 'gk_positioning']]\n",
    "# df_combi1.head(5)"
   ]
  },
  {
   "cell_type": "code",
   "execution_count": 25,
   "metadata": {},
   "outputs": [
    {
     "name": "stderr",
     "output_type": "stream",
     "text": [
      "C:\\Users\\JULO_POOL0175\\Anaconda3\\lib\\site-packages\\ipykernel_launcher.py:27: SettingWithCopyWarning: \n",
      "A value is trying to be set on a copy of a slice from a DataFrame.\n",
      "Try using .loc[row_indexer,col_indexer] = value instead\n",
      "\n",
      "See the caveats in the documentation: https://pandas.pydata.org/pandas-docs/stable/user_guide/indexing.html#returning-a-view-versus-a-copy\n",
      "C:\\Users\\JULO_POOL0175\\Anaconda3\\lib\\site-packages\\ipykernel_launcher.py:29: SettingWithCopyWarning: \n",
      "A value is trying to be set on a copy of a slice from a DataFrame.\n",
      "Try using .loc[row_indexer,col_indexer] = value instead\n",
      "\n",
      "See the caveats in the documentation: https://pandas.pydata.org/pandas-docs/stable/user_guide/indexing.html#returning-a-view-versus-a-copy\n",
      "C:\\Users\\JULO_POOL0175\\Anaconda3\\lib\\site-packages\\ipykernel_launcher.py:33: SettingWithCopyWarning: \n",
      "A value is trying to be set on a copy of a slice from a DataFrame.\n",
      "Try using .loc[row_indexer,col_indexer] = value instead\n",
      "\n",
      "See the caveats in the documentation: https://pandas.pydata.org/pandas-docs/stable/user_guide/indexing.html#returning-a-view-versus-a-copy\n",
      "C:\\Users\\JULO_POOL0175\\Anaconda3\\lib\\site-packages\\ipykernel_launcher.py:34: SettingWithCopyWarning: \n",
      "A value is trying to be set on a copy of a slice from a DataFrame.\n",
      "Try using .loc[row_indexer,col_indexer] = value instead\n",
      "\n",
      "See the caveats in the documentation: https://pandas.pydata.org/pandas-docs/stable/user_guide/indexing.html#returning-a-view-versus-a-copy\n"
     ]
    }
   ],
   "source": [
    "#combining FootyStats data csv's and cleaning\n",
    "df_fs = pd.concat([fs_epl_2021 , fs_epl_2020 , fs_epl_2019 , fs_epl_2018 , fs_epl_2017 , fs_epl_2016 , fs_epl_2015 , fs_epl_2014 , fs_epl_2013 , fs_epl_2012 , fs_epl_2011 , \n",
    "                   fs_ligue1_2021 , fs_ligue1_2020 , fs_ligue1_2019 , fs_ligue1_2018 , fs_ligue1_2017 , fs_ligue1_2016 , fs_ligue1_2015 , fs_ligue1_2014 , fs_ligue1_2013 , fs_ligue1_2012 , fs_ligue1_2011 ,\n",
    "                   fs_bundesliga_2021 , fs_bundesliga_2020 , fs_bundesliga_2019 , fs_bundesliga_2018 , fs_bundesliga_2017 , fs_bundesliga_2016 , fs_bundesliga_2015 , fs_bundesliga_2014 , fs_bundesliga_2013 , fs_bundesliga_2012 , fs_bundesliga_2011 ,\n",
    "                   fs_serie_a_2021 , fs_serie_a_2020 , fs_serie_a_2019 , fs_serie_a_2018 , fs_serie_a_2017 , fs_serie_a_2016 , fs_serie_a_2015 , fs_serie_a_2014 , fs_serie_a_2013 , fs_serie_a_2012 ,\n",
    "                   fs_la_liga_2021 , fs_la_liga_2020 , fs_la_liga_2019 , fs_la_liga_2018 , fs_la_liga_2017 , fs_la_liga_2016 , fs_la_liga_2015 , fs_la_liga_2014 , fs_la_liga_2013 , fs_la_liga_2012 , fs_la_liga_2011 ,\n",
    "                   fs_eredivisie_2021 , fs_eredivisie_2020 , fs_eredivisie_2019 , fs_eredivisie_2018 , fs_eredivisie_2017 , fs_eredivisie_2016 , fs_eredivisie_2015 , fs_eredivisie_2014 , fs_eredivisie_2013 , fs_eredivisie_2012 ,\n",
    "                   fs_liga_nos_2021 , fs_liga_nos_2020 , fs_liga_nos_2019 , fs_liga_nos_2018 , fs_liga_nos_2017 , fs_liga_nos_2016 , fs_liga_nos_2015 , fs_liga_nos_2014 , fs_liga_nos_2013 , fs_liga_nos_2012 ,fs_liga_nos_2011 ,\n",
    "                   fs_russian_premier_liga_2021 , fs_russian_premier_liga_2020 , fs_russian_premier_liga_2019 , fs_russian_premier_liga_2018 , fs_russian_premier_liga_2017 , fs_russian_premier_liga_2016 , fs_russian_premier_liga_2015 , fs_russian_premier_liga_2014\n",
    "                  ])\n",
    "\n",
    "df_fs_clean = df_fs[[\"full_name\",\"age\",\"league\", 'position', 'Current Club',  'minutes_played_overall',\n",
    "       'minutes_played_home', 'minutes_played_away', 'nationality',\n",
    "       'appearances_overall', 'appearances_home', 'appearances_away',\n",
    "       'goals_overall', 'goals_home', 'goals_away', 'assists_overall',\n",
    "       'assists_home', 'assists_away', 'penalty_goals', 'penalty_misses',\n",
    "       'clean_sheets_overall', 'clean_sheets_home', 'clean_sheets_away',\n",
    "       'conceded_overall', 'conceded_home', 'conceded_away',\n",
    "       'yellow_cards_overall', 'red_cards_overall',\n",
    "       'goals_involved_per_90_overall', 'assists_per_90_overall',\n",
    "       'goals_per_90_overall', 'goals_per_90_home', 'goals_per_90_away',\n",
    "       'min_per_goal_overall', 'conceded_per_90_overall',\n",
    "       'min_per_conceded_overall', 'min_per_match', 'min_per_card_overall',\n",
    "       'min_per_assist_overall', 'cards_per_90_overall',\n",
    "       'rank_in_league_top_attackers', 'rank_in_league_top_midfielders',\n",
    "       'rank_in_league_top_defenders', 'rank_in_club_top_scorer', 'year']]\n",
    "\n",
    "df_fs_clean['league'] = df_fs_clean['league'].str.replace('La Liga', 'Primera Division')\n",
    "# df_fs_clean['league_name'] = df_fs_clean['league_name'].str.replace('Italian Serie A', 'Serie A')\n",
    "df_fs_clean['league'] = df_fs_clean['league'].str.replace('Bundesliga', '1 Bundesliga')\n",
    "# df_fs_clean['league_name'] = df_fs_clean['league_name'].str.replace('French Ligue 1', 'Ligue 1')\n",
    "# df_fs_clean['league_name'] = df_fs_clean['league_name'].str.replace('English Premier League', 'Premier League')\n",
    "# df_fs_clean['league'] = df_fs_clean['league'].str.replace('Holland Eredivisie', 'Eredivisie')\n",
    "df_fs_clean['league'] = df_fs_clean['league'].str.replace('Liga NOS', 'Liga Nos')\n",
    "df_fs_clean['league'] = df_fs_clean['league'].str.replace('Russian Premier League', 'Premier Liga')\n",
    "\n",
    "# df_fs_clean.head()"
   ]
  },
  {
   "cell_type": "code",
   "execution_count": 26,
   "metadata": {},
   "outputs": [
    {
     "name": "stderr",
     "output_type": "stream",
     "text": [
      "C:\\Users\\JULO_POOL0175\\Anaconda3\\lib\\site-packages\\ipykernel_launcher.py:1: SettingWithCopyWarning: \n",
      "A value is trying to be set on a copy of a slice from a DataFrame.\n",
      "Try using .loc[row_indexer,col_indexer] = value instead\n",
      "\n",
      "See the caveats in the documentation: https://pandas.pydata.org/pandas-docs/stable/user_guide/indexing.html#returning-a-view-versus-a-copy\n",
      "  \"\"\"Entry point for launching an IPython kernel.\n",
      "C:\\Users\\JULO_POOL0175\\Anaconda3\\lib\\site-packages\\ipykernel_launcher.py:4: SettingWithCopyWarning: \n",
      "A value is trying to be set on a copy of a slice from a DataFrame.\n",
      "Try using .loc[row_indexer,col_indexer] = value instead\n",
      "\n",
      "See the caveats in the documentation: https://pandas.pydata.org/pandas-docs/stable/user_guide/indexing.html#returning-a-view-versus-a-copy\n",
      "  after removing the cwd from sys.path.\n"
     ]
    }
   ],
   "source": [
    "df_fs_clean['name_len'] = df_fs_clean['full_name'].str.split().apply(len)\n",
    "\n",
    "splitted3 = df_fs_clean['full_name'].str.split()\n",
    "df_fs_clean['first_name'] = splitted3.str[0]\n",
    "df_fs_clean['last_name'] = splitted3.str[-1]\n",
    "df_fs_clean['first_name'] = df_fs_clean['first_name'].str[:1] +'.'\n",
    "df_fs_clean['short_name'] = np.where(df_fs_clean['name_len'] == 1, df_fs_clean['last_name'] , df_fs_clean['first_name'] + ' ' + df_fs_clean['last_name'])\n",
    "df_fs_clean_final = df_fs_clean.drop(['first_name','last_name','name_len'], axis=1)"
   ]
  },
  {
   "cell_type": "code",
   "execution_count": 27,
   "metadata": {},
   "outputs": [],
   "source": [
    "# Transfer + FootyStats Only\n",
    "df_combi2 = pd.merge(df_transfer_clean_final, df_fs_clean_final,  how='left', left_on=['short_name','year','league_name'], right_on = ['short_name','year','league'])\n",
    "# df_combi2 = df_combi2[df_combi2['full_name'].notnull()]\n",
    "df_combi2 = df_combi2[['short_name','club_name', 'player_name', 'club_involved_name', 'fee_cleaned',\n",
    "       'league_name', 'year', 'age',\n",
    "       'position', 'minutes_played_overall',\n",
    "       'minutes_played_home', 'minutes_played_away', 'nationality',\n",
    "       'appearances_overall', 'appearances_home', 'appearances_away',\n",
    "       'goals_overall', 'goals_home', 'goals_away', 'assists_overall',\n",
    "       'assists_home', 'assists_away', 'penalty_goals', 'penalty_misses',\n",
    "       'clean_sheets_overall', 'clean_sheets_home', 'clean_sheets_away',\n",
    "       'conceded_overall', 'conceded_home', 'conceded_away',\n",
    "       'yellow_cards_overall', 'red_cards_overall',\n",
    "       'goals_involved_per_90_overall', 'assists_per_90_overall',\n",
    "       'goals_per_90_overall', 'goals_per_90_home', 'goals_per_90_away',\n",
    "       'min_per_goal_overall', 'conceded_per_90_overall',\n",
    "       'min_per_conceded_overall', 'min_per_match', 'min_per_card_overall',\n",
    "       'min_per_assist_overall', 'cards_per_90_overall',\n",
    "       'rank_in_league_top_attackers', 'rank_in_league_top_midfielders',\n",
    "       'rank_in_league_top_defenders', 'rank_in_club_top_scorer']]"
   ]
  },
  {
   "cell_type": "code",
   "execution_count": 28,
   "metadata": {},
   "outputs": [],
   "source": [
    "# Transfer + FootyStats + FIFA\n",
    "df_combi3 = pd.merge(df_combi2, df_fifa_clean_final,  how='left', left_on=['short_name','year','league_name'], right_on = ['short_name2','year','league_name'])\n",
    "# df_combi3 = df_combi3[df_combi3['long_name'].notnull()]\n",
    "\n",
    "\n",
    "df_combi3 = df_combi3[['short_name_x','club_name_x', 'player_name', 'club_involved_name', 'fee_cleaned',\n",
    "       'league_name', 'year', 'age',\n",
    "       'position', 'minutes_played_overall',\n",
    "       'minutes_played_home', 'minutes_played_away', 'nationality',\n",
    "       'appearances_overall', 'appearances_home', 'appearances_away',\n",
    "       'goals_overall', 'goals_home', 'goals_away', 'assists_overall',\n",
    "       'assists_home', 'assists_away', 'penalty_goals', 'penalty_misses',\n",
    "       'clean_sheets_overall', 'clean_sheets_home', 'clean_sheets_away',\n",
    "       'conceded_overall', 'conceded_home', 'conceded_away',\n",
    "       'yellow_cards_overall', 'red_cards_overall',\n",
    "       'goals_involved_per_90_overall', 'assists_per_90_overall',\n",
    "       'goals_per_90_overall', 'goals_per_90_home', 'goals_per_90_away',\n",
    "       'min_per_goal_overall', 'conceded_per_90_overall',\n",
    "       'min_per_conceded_overall', 'min_per_match', 'min_per_card_overall',\n",
    "       'min_per_assist_overall', 'cards_per_90_overall',\n",
    "       'rank_in_league_top_attackers', 'rank_in_league_top_midfielders',\n",
    "       'rank_in_league_top_defenders', 'rank_in_club_top_scorer', 'height_cm', 'weight_kg',\n",
    "       'league_rank', 'overall', 'potential', 'value_eur', 'wage_eur',\n",
    "       'player_positions', 'preferred_foot', 'international_reputation',\n",
    "       'weak_foot', 'skill_moves', 'work_rate', 'body_type', 'real_face',\n",
    "       'release_clause_eur', 'player_tags', 'team_position',\n",
    "       'team_jersey_number', 'loaned_from', 'joined', 'contract_valid_until',\n",
    "       'nation_position', 'nation_jersey_number', 'pace', 'shooting', 'passing',\n",
    "       'dribbling', 'defending', 'physic', 'gk_diving', 'gk_handling', 'gk_kicking',\n",
    "       'gk_reflexes', 'gk_speed', 'gk_positioning', 'player_traits', 'attacking_crossing',\n",
    "       'attacking_finishing', 'attacking_heading_accuracy', 'attacking_short_passing',\n",
    "       'attacking_volleys', 'skill_dribbling', 'skill_curve', 'skill_fk_accuracy',\n",
    "       'skill_long_passing', 'skill_ball_control', 'movement_acceleration',\n",
    "       'movement_sprint_speed', 'movement_agility', 'movement_reactions', 'movement_balance',\n",
    "       'power_shot_power', 'power_jumping', 'power_stamina', 'power_strength', 'power_long_shots',\n",
    "       'mentality_aggression', 'mentality_interceptions', 'mentality_positioning', 'mentality_vision',\n",
    "       'mentality_penalties', 'mentality_composure', 'defending_marking', 'defending_standing_tackle',\n",
    "       'defending_sliding_tackle', 'goalkeeping_diving', 'goalkeeping_handling', 'goalkeeping_kicking',\n",
    "       'goalkeeping_positioning', 'goalkeeping_reflexes', 'ls', 'st', 'rs', 'lw', 'lf', 'cf', 'rf', 'rw', \n",
    "       'lam', 'cam', 'ram', 'lm', 'lcm','cm', 'rcm', 'rm', 'lwb', 'ldm', 'cdm', 'rdm', 'rwb', 'lb', 'lcb', 'cb', 'rcb', 'rb']]"
   ]
  },
  {
   "cell_type": "code",
   "execution_count": 29,
   "metadata": {},
   "outputs": [],
   "source": [
    "# Transfer + FootyStats + FIFA + Google Search Volume\n",
    "df_combi4 = pd.merge(df_combi3, df_sv,  how='left', left_on=['short_name_x','year'], right_on = ['short_name_sv','year_sv'])\n",
    "\n",
    "df_combi4 = df_combi4[['club_name_x', 'player_name', 'club_involved_name', 'fee_cleaned',\n",
    "       'league_name', 'year', 'age',\n",
    "       'position', 'minutes_played_overall',\n",
    "       'minutes_played_home', 'minutes_played_away', 'nationality',\n",
    "       'appearances_overall', 'appearances_home', 'appearances_away',\n",
    "       'goals_overall', 'goals_home', 'goals_away', 'assists_overall',\n",
    "       'assists_home', 'assists_away', 'penalty_goals', 'penalty_misses',\n",
    "       'clean_sheets_overall', 'clean_sheets_home', 'clean_sheets_away',\n",
    "       'conceded_overall', 'conceded_home', 'conceded_away',\n",
    "       'yellow_cards_overall', 'red_cards_overall',\n",
    "       'goals_involved_per_90_overall', 'assists_per_90_overall',\n",
    "       'goals_per_90_overall', 'goals_per_90_home', 'goals_per_90_away',\n",
    "       'min_per_goal_overall', 'conceded_per_90_overall',\n",
    "       'min_per_conceded_overall', 'min_per_match', 'min_per_card_overall',\n",
    "       'min_per_assist_overall', 'cards_per_90_overall',\n",
    "       'rank_in_league_top_attackers', 'rank_in_league_top_midfielders',\n",
    "       'rank_in_league_top_defenders', 'rank_in_club_top_scorer', 'height_cm', 'weight_kg',\n",
    "       'league_rank', 'overall', 'potential', 'value_eur', 'wage_eur',\n",
    "       'player_positions', 'preferred_foot', 'international_reputation',\n",
    "       'weak_foot', 'skill_moves', 'work_rate', 'body_type', 'real_face',\n",
    "       'release_clause_eur', 'player_tags', 'team_position',\n",
    "       'team_jersey_number', 'loaned_from', 'joined', 'contract_valid_until',\n",
    "       'nation_position', 'nation_jersey_number', 'pace', 'shooting', 'passing',\n",
    "       'dribbling', 'defending', 'physic', 'gk_diving', 'gk_handling', 'gk_kicking',\n",
    "       'gk_reflexes', 'gk_speed', 'gk_positioning', 'player_traits', 'attacking_crossing',\n",
    "       'attacking_finishing', 'attacking_heading_accuracy', 'attacking_short_passing',\n",
    "       'attacking_volleys', 'skill_dribbling', 'skill_curve', 'skill_fk_accuracy',\n",
    "       'skill_long_passing', 'skill_ball_control', 'movement_acceleration',\n",
    "       'movement_sprint_speed', 'movement_agility', 'movement_reactions', 'movement_balance',\n",
    "       'power_shot_power', 'power_jumping', 'power_stamina', 'power_strength', 'power_long_shots',\n",
    "       'mentality_aggression', 'mentality_interceptions', 'mentality_positioning', 'mentality_vision',\n",
    "       'mentality_penalties', 'mentality_composure', 'defending_marking', 'defending_standing_tackle',\n",
    "       'defending_sliding_tackle', 'goalkeeping_diving', 'goalkeeping_handling', 'goalkeeping_kicking',\n",
    "       'goalkeeping_positioning', 'goalkeeping_reflexes', 'ls', 'st', 'rs', 'lw', 'lf', 'cf', 'rf', 'rw', \n",
    "       'lam', 'cam', 'ram', 'lm', 'lcm','cm', 'rcm', 'rm', 'lwb', 'ldm', 'cdm', 'rdm', 'rwb', 'lb', 'lcb', 'cb', 'rcb', 'rb','search_volume_sv']]"
   ]
  },
  {
   "cell_type": "code",
   "execution_count": 30,
   "metadata": {},
   "outputs": [],
   "source": [
    "# df_combi2.to_csv(\"fs_dataset.csv\",index=False)\n",
    "# df_combi3.to_csv(\"fs_fifa_dataset.csv\",index=False)\n",
    "# df_combi4.to_csv(\"fs_fifa_google_dataset.csv\",index=False)"
   ]
  },
  {
   "cell_type": "markdown",
   "metadata": {},
   "source": [
    "## Data Cleaning"
   ]
  },
  {
   "cell_type": "code",
   "execution_count": 31,
   "metadata": {
    "scrolled": true
   },
   "outputs": [],
   "source": [
    "#choosing features that makes sense\n",
    "df_clean = df_combi4.drop(columns=['player_positions', 'preferred_foot','work_rate','body_type','real_face','player_tags','team_position','team_jersey_number','loaned_from','joined','contract_valid_until','nation_position','nation_jersey_number','gk_diving','gk_handling','gk_kicking','gk_reflexes','gk_speed','gk_positioning','player_traits','ls','st','rs','lw','lf','cf','rf','rw','lam','cam','ram','lm','lcm','cm','rcm','rm','lwb','ldm','cdm','rdm','rwb','lb','lcb','cb','rcb','rb'])\n",
    "\n",
    "df_clean = df_clean[df_clean.position.isin(['Midfielder', 'Defender', 'Forward'])]\n",
    "\n",
    "df_clean = df_clean[df_clean['age'].notnull()]\n",
    "df_clean = df_clean[df_clean['value_eur'].notnull()]"
   ]
  },
  {
   "cell_type": "code",
   "execution_count": 32,
   "metadata": {},
   "outputs": [
    {
     "data": {
      "text/plain": [
       "['release_clause_eur',\n",
       " 'pace',\n",
       " 'shooting',\n",
       " 'passing',\n",
       " 'dribbling',\n",
       " 'defending',\n",
       " 'physic',\n",
       " 'mentality_composure',\n",
       " 'defending_marking',\n",
       " 'search_volume_sv']"
      ]
     },
     "execution_count": 32,
     "metadata": {},
     "output_type": "execute_result"
    }
   ],
   "source": [
    "#printing NA columns\n",
    "df_clean.columns[df_clean.isna().any()].tolist()"
   ]
  },
  {
   "cell_type": "code",
   "execution_count": 33,
   "metadata": {},
   "outputs": [],
   "source": [
    "df_clean['release_clause_eur'].fillna(df_clean['release_clause_eur'].mean(), inplace=True)\n",
    "df_clean['pace'].fillna(df_clean['pace'].mean(), inplace=True)\n",
    "df_clean['shooting'].fillna(df_clean['shooting'].mean(), inplace=True)\n",
    "df_clean['passing'].fillna(df_clean['passing'].mean(), inplace=True)\n",
    "df_clean['dribbling'].fillna(df_clean['dribbling'].mean(), inplace=True)\n",
    "df_clean['defending'].fillna(df_clean['defending'].mean(), inplace=True)\n",
    "df_clean['physic'].fillna(df_clean['physic'].mean(), inplace=True)\n",
    "df_clean['mentality_composure'].fillna(df_clean['mentality_composure'].mean(), inplace=True)\n",
    "df_clean['defending_marking'].fillna(df_clean['defending_marking'].mean(), inplace=True)\n",
    "df_clean['search_volume_sv'].fillna(df_clean['search_volume_sv'].mean(), inplace=True)"
   ]
  },
  {
   "cell_type": "markdown",
   "metadata": {},
   "source": [
    "## Separating and Creating Dummy Variables"
   ]
  },
  {
   "cell_type": "code",
   "execution_count": 34,
   "metadata": {},
   "outputs": [],
   "source": [
    "#creating dummy variables for categorical features\n",
    "dummies = df_clean[['year','league_name','position','nationality']]\n",
    "\n",
    "dummies = pd.get_dummies(data=dummies, drop_first=True)\n",
    "\n",
    "df_clean = df_clean.drop(columns=['year','club_name_x','club_involved_name','league_name','position','nationality'])"
   ]
  },
  {
   "cell_type": "code",
   "execution_count": 35,
   "metadata": {},
   "outputs": [],
   "source": [
    "dummies = dummies.reset_index(drop=True)"
   ]
  },
  {
   "cell_type": "markdown",
   "metadata": {},
   "source": [
    "## PCA to Reduce Multicollinearity from Non Categorical Variables"
   ]
  },
  {
   "cell_type": "code",
   "execution_count": 36,
   "metadata": {},
   "outputs": [
    {
     "name": "stderr",
     "output_type": "stream",
     "text": [
      "C:\\Users\\JULO_POOL0175\\Anaconda3\\lib\\site-packages\\statsmodels\\tools\\_testing.py:19: FutureWarning: pandas.util.testing is deprecated. Use the functions in the public API at pandas.testing instead.\n",
      "  import pandas.util.testing as tm\n"
     ]
    }
   ],
   "source": [
    "#checking for multicollinearity\n",
    "import seaborn as sns;\n",
    "sns.set(rc = {'figure.figsize':(15,15)})\n",
    "cor_sp = df_clean.corr()\n",
    "ax = sns.heatmap(cor_sp, cmap=\"PiYG\")"
   ]
  },
  {
   "cell_type": "code",
   "execution_count": 37,
   "metadata": {},
   "outputs": [],
   "source": [
    "from sklearn.preprocessing import StandardScaler\n",
    "\n",
    "\n",
    "#separating features and target for PCA\n",
    "x = df_clean.iloc[:,2:]\n",
    "\n",
    "y = df_clean.loc[:,['fee_cleaned']]\n",
    "y = y.reset_index(drop=True)\n",
    "\n",
    "# Standardizing the features\n",
    "x = StandardScaler().fit_transform(x)"
   ]
  },
  {
   "cell_type": "code",
   "execution_count": 38,
   "metadata": {},
   "outputs": [],
   "source": [
    "# PCA\n",
    "from sklearn.decomposition import PCA\n",
    "\n",
    "pca60 = PCA(n_components=60)\n",
    "pc = pca60.fit_transform(x)\n",
    "\n",
    "cumsum_var = pd.DataFrame(np.cumsum(pca60.explained_variance_ratio_),columns=['explained_variance'])"
   ]
  },
  {
   "cell_type": "code",
   "execution_count": 39,
   "metadata": {},
   "outputs": [
    {
     "data": {
      "text/plain": [
       "<matplotlib.axes._subplots.AxesSubplot at 0x16a9815cbe0>"
      ]
     },
     "execution_count": 39,
     "metadata": {},
     "output_type": "execute_result"
    },
    {
     "data": {
      "image/png": "[encoded data removed]",
      "text/plain": [
       "<Figure size 720x720 with 1 Axes>"
      ]
     },
     "metadata": {},
     "output_type": "display_data"
    }
   ],
   "source": [
    "#plotting to choose # of PCAs\n",
    "sns.set(rc = {'figure.figsize':(10,10)})\n",
    "sns.lineplot(x = cumsum_var.index+1, y= 'explained_variance', ci=None, marker='o',  data=cumsum_var)"
   ]
  },
  {
   "cell_type": "code",
   "execution_count": 40,
   "metadata": {},
   "outputs": [],
   "source": [
    "df_principal = pd.DataFrame(data = pc,\n",
    "                           columns = ['pc1','pc2','pc3','pc4','pc5','pc6','pc7','pc8','pc9','pc10','pc11','pc12','pc13','pc14','pc15','pc16','pc17','pc18','pc19','pc20','pc21','pc22','pc23','pc24','pc25','pc26','pc27','pc28','pc29','pc30','pc31','pc32','pc33','pc34','pc35','pc36','pc37','pc38','pc39','pc40','pc41','pc42','pc43','pc44','pc45','pc46','pc47','pc48','pc49','pc50','pc51','pc52','pc53','pc54','pc55','pc56','pc57','pc58','pc59','pc60'])                                              "
   ]
  },
  {
   "cell_type": "code",
   "execution_count": 41,
   "metadata": {},
   "outputs": [],
   "source": [
    "#creating multiple n-component PCA dataframes\n",
    "df_pca10 = pd.concat([y, df_principal.iloc[:,0:10]], axis = 1)\n",
    "df_pca15 = pd.concat([y, df_principal.iloc[:,0:15]], axis = 1)\n",
    "df_pca20 = pd.concat([y, df_principal.iloc[:,0:20]], axis = 1)\n",
    "df_pca25 = pd.concat([y, df_principal.iloc[:,0:25]], axis = 1)\n",
    "df_pca30 = pd.concat([y, df_principal.iloc[:,0:30]], axis = 1)\n",
    "df_pca35 = pd.concat([y, df_principal.iloc[:,0:35]], axis = 1)\n",
    "df_pca40 = pd.concat([y, df_principal.iloc[:,0:40]], axis = 1)\n",
    "df_pca45 = pd.concat([y, df_principal.iloc[:,0:45]], axis = 1)\n",
    "df_pca50 = pd.concat([y, df_principal.iloc[:,0:50]], axis = 1)\n",
    "df_pca55 = pd.concat([y, df_principal.iloc[:,0:55]], axis = 1)\n",
    "df_pca60 = pd.concat([y, df_principal.iloc[:,0:60]], axis = 1)"
   ]
  },
  {
   "cell_type": "code",
   "execution_count": 42,
   "metadata": {},
   "outputs": [
    {
     "data": {
      "image/png": "[encoded data removed]",
      "text/plain": [
       "<Figure size 1080x1080 with 2 Axes>"
      ]
     },
     "metadata": {},
     "output_type": "display_data"
    }
   ],
   "source": [
    "#correlation heatmap sample using 50 Principal Components show almost no multicollinearity\n",
    "sns.set(rc = {'figure.figsize':(15,15)})\n",
    "cor_sp2 = df_pca50.corr()\n",
    "ax = sns.heatmap(cor_sp2, cmap=\"PiYG\")"
   ]
  },
  {
   "cell_type": "markdown",
   "metadata": {},
   "source": [
    "## Create Final Dataset post PCA and adding Dummies"
   ]
  },
  {
   "cell_type": "code",
   "execution_count": 43,
   "metadata": {},
   "outputs": [],
   "source": [
    "df_pca10_final = pd.concat([df_pca10, dummies], axis = 1)\n",
    "df_pca15_final = pd.concat([df_pca15, dummies], axis = 1)\n",
    "df_pca20_final = pd.concat([df_pca20, dummies], axis = 1)\n",
    "df_pca25_final = pd.concat([df_pca25, dummies], axis = 1)\n",
    "df_pca30_final = pd.concat([df_pca30, dummies], axis = 1)\n",
    "df_pca35_final = pd.concat([df_pca35, dummies], axis = 1)\n",
    "df_pca40_final = pd.concat([df_pca40, dummies], axis = 1)\n",
    "df_pca45_final = pd.concat([df_pca45, dummies], axis = 1)\n",
    "df_pca50_final = pd.concat([df_pca50, dummies], axis = 1)\n",
    "df_pca55_final = pd.concat([df_pca55, dummies], axis = 1)\n",
    "df_pca60_final = pd.concat([df_pca60, dummies], axis = 1)"
   ]
  },
  {
   "cell_type": "code",
   "execution_count": 44,
   "metadata": {},
   "outputs": [],
   "source": [
    "df_pca10_final_dup = pd.concat([df_pca10]*1000) \n",
    "df_pca15_final_dup = pd.concat([df_pca15]*1000)\n",
    "df_pca20_final_dup = pd.concat([df_pca20]*1000)\n",
    "df_pca25_final_dup = pd.concat([df_pca25]*1000)\n",
    "df_pca30_final_dup = pd.concat([df_pca30]*1000)\n",
    "df_pca35_final_dup = pd.concat([df_pca35]*1000)\n",
    "df_pca40_final_dup = pd.concat([df_pca40]*1000)\n",
    "df_pca45_final_dup = pd.concat([df_pca45]*1000)\n",
    "df_pca50_final_dup = pd.concat([df_pca50]*1000)\n",
    "df_pca55_final_dup = pd.concat([df_pca55]*1000)\n",
    "df_pca60_final_dup = pd.concat([df_pca60]*1000)"
   ]
  },
  {
   "cell_type": "code",
   "execution_count": 45,
   "metadata": {},
   "outputs": [],
   "source": [
    "from sklearn.model_selection import train_test_split\n",
    "from sklearn.linear_model import LinearRegression\n",
    "from sklearn.metrics import mean_squared_error\n",
    "from sklearn.metrics import mean_absolute_error\n",
    "from math import sqrt"
   ]
  },
  {
   "cell_type": "code",
   "execution_count": 46,
   "metadata": {},
   "outputs": [],
   "source": [
    "def reg_function(df):\n",
    "    y_data = df['fee_cleaned']\n",
    "    x_data = df.iloc[:,1:len(df.columns)]\n",
    "    \n",
    "    x_train, x_test, y_train, y_test = train_test_split(x_data, y_data, test_size=0.25, shuffle = True, random_state=47)\n",
    "    \n",
    "    reg = LinearRegression().fit(x_train, y_train)\n",
    "    y_predict_test = reg.predict(x_test)\n",
    "    \n",
    "    rms = sqrt(mean_squared_error(y_test, y_predict_test))\n",
    "    mae = mean_absolute_error(y_test,y_predict_test)\n",
    "    \n",
    "    print(\"Root Mean Squared Error: %.2f\" % rms)\n",
    "    print(\"Mean Absolute Error: %.2f\" % mae)"
   ]
  },
  {
   "cell_type": "code",
   "execution_count": 47,
   "metadata": {},
   "outputs": [],
   "source": [
    "df_list = [df_pca10_final_dup, df_pca15_final_dup, df_pca20_final_dup, df_pca25_final_dup, df_pca30_final_dup, df_pca35_final_dup, df_pca40_final_dup, df_pca45_final_dup, df_pca50_final_dup, df_pca55_final_dup, df_pca60_final_dup]"
   ]
  },
  {
   "cell_type": "code",
   "execution_count": 48,
   "metadata": {},
   "outputs": [
    {
     "name": "stdout",
     "output_type": "stream",
     "text": [
      "Root Mean Squared Error: 11.47\n",
      "Mean Absolute Error: 7.38\n",
      "Root Mean Squared Error: 10.96\n",
      "Mean Absolute Error: 7.16\n",
      "Root Mean Squared Error: 10.70\n",
      "Mean Absolute Error: 7.02\n",
      "Root Mean Squared Error: 10.61\n",
      "Mean Absolute Error: 6.90\n",
      "Root Mean Squared Error: 10.52\n",
      "Mean Absolute Error: 6.85\n",
      "Root Mean Squared Error: 10.46\n",
      "Mean Absolute Error: 6.84\n",
      "Root Mean Squared Error: 10.43\n",
      "Mean Absolute Error: 6.84\n",
      "Root Mean Squared Error: 10.33\n",
      "Mean Absolute Error: 6.83\n",
      "Root Mean Squared Error: 10.30\n",
      "Mean Absolute Error: 6.82\n",
      "Root Mean Squared Error: 10.30\n",
      "Mean Absolute Error: 6.82\n",
      "Root Mean Squared Error: 10.22\n",
      "Mean Absolute Error: 6.81\n"
     ]
    }
   ],
   "source": [
    "for df in df_list:\n",
    "    reg_function(df)"
   ]
  },
  {
   "cell_type": "markdown",
   "metadata": {},
   "source": [
    "## Separating Dataset To Below and Above Median, plus Retraining"
   ]
  },
  {
   "cell_type": "code",
   "execution_count": 54,
   "metadata": {},
   "outputs": [],
   "source": [
    "df_pca10_final_dup_below = df_pca10_final_dup[df_pca10_final_dup['fee_cleaned']<=3]\n",
    "df_pca15_final_dup_below = df_pca15_final_dup[df_pca15_final_dup['fee_cleaned']<=3]\n",
    "df_pca20_final_dup_below = df_pca20_final_dup[df_pca20_final_dup['fee_cleaned']<=3]\n",
    "df_pca25_final_dup_below = df_pca25_final_dup[df_pca25_final_dup['fee_cleaned']<=3]\n",
    "df_pca30_final_dup_below = df_pca30_final_dup[df_pca30_final_dup['fee_cleaned']<=3]\n",
    "df_pca35_final_dup_below = df_pca35_final_dup[df_pca35_final_dup['fee_cleaned']<=3]\n",
    "df_pca40_final_dup_below = df_pca40_final_dup[df_pca40_final_dup['fee_cleaned']<=3]\n",
    "df_pca45_final_dup_below = df_pca45_final_dup[df_pca45_final_dup['fee_cleaned']<=3]\n",
    "df_pca50_final_dup_below = df_pca50_final_dup[df_pca50_final_dup['fee_cleaned']<=3]\n",
    "df_pca55_final_dup_below = df_pca55_final_dup[df_pca55_final_dup['fee_cleaned']<=3]\n",
    "df_pca60_final_dup_below = df_pca60_final_dup[df_pca60_final_dup['fee_cleaned']<=3]"
   ]
  },
  {
   "cell_type": "code",
   "execution_count": 56,
   "metadata": {},
   "outputs": [],
   "source": [
    "df_list_below = [df_pca10_final_dup_below,df_pca15_final_dup_below,df_pca20_final_dup_below,df_pca25_final_dup_below,df_pca30_final_dup_below,df_pca35_final_dup_below,df_pca40_final_dup_below,df_pca45_final_dup_below,df_pca50_final_dup_below,df_pca55_final_dup_below,df_pca60_final_dup_below]"
   ]
  },
  {
   "cell_type": "code",
   "execution_count": 57,
   "metadata": {},
   "outputs": [
    {
     "name": "stdout",
     "output_type": "stream",
     "text": [
      "Root Mean Squared Error: 0.78\n",
      "Mean Absolute Error: 0.66\n",
      "Root Mean Squared Error: 0.78\n",
      "Mean Absolute Error: 0.65\n",
      "Root Mean Squared Error: 0.78\n",
      "Mean Absolute Error: 0.65\n",
      "Root Mean Squared Error: 0.77\n",
      "Mean Absolute Error: 0.65\n",
      "Root Mean Squared Error: 0.77\n",
      "Mean Absolute Error: 0.65\n",
      "Root Mean Squared Error: 0.77\n",
      "Mean Absolute Error: 0.64\n",
      "Root Mean Squared Error: 0.77\n",
      "Mean Absolute Error: 0.64\n",
      "Root Mean Squared Error: 0.76\n",
      "Mean Absolute Error: 0.63\n",
      "Root Mean Squared Error: 0.76\n",
      "Mean Absolute Error: 0.63\n",
      "Root Mean Squared Error: 0.75\n",
      "Mean Absolute Error: 0.63\n",
      "Root Mean Squared Error: 0.75\n",
      "Mean Absolute Error: 0.63\n"
     ]
    }
   ],
   "source": [
    "for df in df_list_below:\n",
    "    reg_function(df)"
   ]
  },
  {
   "cell_type": "code",
   "execution_count": 65,
   "metadata": {},
   "outputs": [],
   "source": [
    "df_pca10_final_dup_above = df_pca10_final_dup[df_pca10_final_dup['fee_cleaned']>3]\n",
    "df_pca15_final_dup_above = df_pca15_final_dup[df_pca15_final_dup['fee_cleaned']>3]\n",
    "df_pca20_final_dup_above = df_pca20_final_dup[df_pca20_final_dup['fee_cleaned']>3]\n",
    "df_pca25_final_dup_above = df_pca25_final_dup[df_pca25_final_dup['fee_cleaned']>3]\n",
    "df_pca30_final_dup_above = df_pca30_final_dup[df_pca30_final_dup['fee_cleaned']>3]\n",
    "df_pca35_final_dup_above = df_pca35_final_dup[df_pca35_final_dup['fee_cleaned']>3]\n",
    "df_pca40_final_dup_above = df_pca40_final_dup[df_pca40_final_dup['fee_cleaned']>3]\n",
    "df_pca45_final_dup_above = df_pca45_final_dup[df_pca45_final_dup['fee_cleaned']>3]\n",
    "df_pca50_final_dup_above = df_pca50_final_dup[df_pca50_final_dup['fee_cleaned']>3]\n",
    "df_pca55_final_dup_above = df_pca55_final_dup[df_pca55_final_dup['fee_cleaned']>3]\n",
    "df_pca60_final_dup_above = df_pca60_final_dup[df_pca60_final_dup['fee_cleaned']>3]"
   ]
  },
  {
   "cell_type": "code",
   "execution_count": 66,
   "metadata": {},
   "outputs": [],
   "source": [
    "df_list_above = [df_pca10_final_dup_above,df_pca15_final_dup_above,df_pca20_final_dup_above,df_pca25_final_dup_above,df_pca30_final_dup_above,df_pca35_final_dup_above,df_pca40_final_dup_above,df_pca45_final_dup_above,df_pca50_final_dup_above,df_pca55_final_dup_above,df_pca60_final_dup_above]"
   ]
  },
  {
   "cell_type": "code",
   "execution_count": 64,
   "metadata": {},
   "outputs": [
    {
     "name": "stdout",
     "output_type": "stream",
     "text": [
      "Root Mean Squared Error: 14.88\n",
      "Mean Absolute Error: 10.62\n",
      "Root Mean Squared Error: 14.10\n",
      "Mean Absolute Error: 9.98\n",
      "Root Mean Squared Error: 13.87\n",
      "Mean Absolute Error: 9.75\n",
      "Root Mean Squared Error: 13.75\n",
      "Mean Absolute Error: 9.62\n",
      "Root Mean Squared Error: 13.60\n",
      "Mean Absolute Error: 9.55\n",
      "Root Mean Squared Error: 13.40\n",
      "Mean Absolute Error: 9.48\n",
      "Root Mean Squared Error: 13.26\n",
      "Mean Absolute Error: 9.30\n",
      "Root Mean Squared Error: 12.83\n",
      "Mean Absolute Error: 9.02\n",
      "Root Mean Squared Error: 12.82\n",
      "Mean Absolute Error: 9.02\n",
      "Root Mean Squared Error: 12.75\n",
      "Mean Absolute Error: 9.08\n",
      "Root Mean Squared Error: 12.50\n",
      "Mean Absolute Error: 8.90\n"
     ]
    }
   ],
   "source": [
    "for df in df_list_above:\n",
    "    reg_function(df)"
   ]
  },
  {
   "cell_type": "code",
   "execution_count": null,
   "metadata": {},
   "outputs": [],
   "source": [
    "percentile:\n",
    "0.54\n",
    "1.8\n",
    "4.05\n",
    "10.8\n",
    "199.8\n"
   ]
  }
 ],
 "metadata": {
  "kernelspec": {
   "display_name": "Python 3",
   "language": "python",
   "name": "python3"
  },
  "language_info": {
   "codemirror_mode": {
    "name": "ipython",
    "version": 3
   },
   "file_extension": ".py",
   "mimetype": "text/x-python",
   "name": "python",
   "nbconvert_exporter": "python",
   "pygments_lexer": "ipython3",
   "version": "3.7.3"
  }
 },
 "nbformat": 4,
 "nbformat_minor": 2
}
